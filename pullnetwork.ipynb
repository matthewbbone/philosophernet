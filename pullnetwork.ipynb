{
 "metadata": {
  "language_info": {
   "codemirror_mode": {
    "name": "ipython",
    "version": 3
   },
   "file_extension": ".py",
   "mimetype": "text/x-python",
   "name": "python",
   "nbconvert_exporter": "python",
   "pygments_lexer": "ipython3",
   "version": "3.8.5-final"
  },
  "orig_nbformat": 2,
  "kernelspec": {
   "name": "python_defaultSpec_1599248985006",
   "display_name": "Python 3.8.5 32-bit"
  }
 },
 "nbformat": 4,
 "nbformat_minor": 2,
 "cells": [
  {
   "cell_type": "code",
   "execution_count": 1,
   "metadata": {},
   "outputs": [],
   "source": [
    "import requests\n",
    "from bs4 import BeautifulSoup\n",
    "import lxml"
   ]
  },
  {
   "cell_type": "code",
   "execution_count": 2,
   "metadata": {},
   "outputs": [],
   "source": [
    "url = \"https://en.wikipedia.org/wiki/Ren%C3%A9_Descartes\""
   ]
  },
  {
   "cell_type": "code",
   "execution_count": 48,
   "metadata": {},
   "outputs": [
    {
     "output_type": "execute_result",
     "data": {
      "text/plain": "([['Plato', '/wiki/Plato'],\n  ['Aristotle', '/wiki/Aristotle'],\n  ['Archimedes', '/wiki/Archimedes'],\n  ['Alhazen', '/wiki/Ibn_al-Haytham'],\n  ['Al-Ghazali', '/wiki/Al-Ghazali'],\n  ['Averroes', '/wiki/Averroes'],\n  ['Avicenna', '/wiki/Avicenna'],\n  ['Anselm', '/wiki/Anselm_of_Canterbury'],\n  ['Elisabeth of the Palatinate', '/wiki/Elisabeth_of_the_Palatinate'],\n  ['Augustine', '/wiki/Augustine_of_Hippo'],\n  ['Stoics', '/wiki/Stoics'],\n  ['Aquinas', '/wiki/Thomas_Aquinas'],\n  ['Ockham', '/wiki/William_of_Ockham'],\n  ['Suárez', '/wiki/Francisco_Su%C3%A1rez'],\n  ['Mersenne', '/wiki/Marin_Mersenne'],\n  ['Sextus Empiricus', '/wiki/Sextus_Empiricus'],\n  ['Montaigne', '/wiki/Michel_de_Montaigne'],\n  ['Jacobus Golius', '/wiki/Jacobus_Golius'],\n  ['Beeckman', '/wiki/Isaac_Beeckman'],\n  ['Harvey', '/wiki/William_Harvey'],\n  ['Viète', '/wiki/Fran%C3%A7ois_Vi%C3%A8te'],\n  ['Duns Scotus', '/wiki/Duns_Scotus'],\n  ['Teresa of Ávila', '/wiki/Teresa_of_%C3%81vila']],\n [['Western philosophy', '/wiki/Western_philosophy'],\n  ['Spinoza', '/wiki/Spinoza'],\n  ['Leibniz', '/wiki/Leibniz'],\n  ['John Locke', '/wiki/John_Locke'],\n  ['Nicolas Malebranche', '/wiki/Nicolas_Malebranche'],\n  ['Antoine Arnauld', '/wiki/Antoine_Arnauld'],\n  ['Jacques-Bénigne Bossuet', '/wiki/Jacques-B%C3%A9nigne_Bossuet'],\n  ['Blaise Pascal', '/wiki/Blaise_Pascal'],\n  ['Isaac Newton', '/wiki/Isaac_Newton'],\n  ['Immanuel Kant', '/wiki/Immanuel_Kant'],\n  ['Edmund Husserl', '/wiki/Edmund_Husserl'],\n  ['Noam Chomsky', '/wiki/Noam_Chomsky']])"
     },
     "metadata": {},
     "execution_count": 48
    }
   ],
   "source": [
    "def parse_connections(url):\n",
    "    page = requests.get(url)\n",
    "    soup = BeautifulSoup(page.content, \"lxml\")\n",
    "\n",
    "    infs = soup.find_all(\"div\", class_ = \"center\")[0]\n",
    "    infd = soup.find_all(\"div\", class_ = \"center\")[1]\n",
    "\n",
    "    infs = bs4_list_convert(influences)\n",
    "    infd = bs4_list_convert(influenced)\n",
    "\n",
    "    return infs, infd\n",
    "\n",
    "def bs4_list_convert(div):\n",
    "    l = []\n",
    "\n",
    "    for person in div.find_all(\"a\", href = True):\n",
    "        name = person.get_text()\n",
    "        ref = person[\"href\"]\n",
    "\n",
    "        if not \"[\" in name:\n",
    "            l.append([name,ref]) \n",
    "\n",
    "    return l\n",
    "\n",
    "parse_connections(url)"
   ]
  }
 ]
}