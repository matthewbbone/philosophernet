{
 "metadata": {
  "language_info": {
   "codemirror_mode": {
    "name": "ipython",
    "version": 3
   },
   "file_extension": ".py",
   "mimetype": "text/x-python",
   "name": "python",
   "nbconvert_exporter": "python",
   "pygments_lexer": "ipython3",
   "version": "3.8.5-final"
  },
  "orig_nbformat": 2,
  "kernelspec": {
   "name": "Python 3.8.5 32-bit",
   "display_name": "Python 3.8.5 32-bit",
   "metadata": {
    "interpreter": {
     "hash": "27e51d9869a86ed31c6d232a30492375277492976997f955be30b722c624d282"
    }
   }
  }
 },
 "nbformat": 4,
 "nbformat_minor": 2,
 "cells": [
  {
   "cell_type": "code",
   "execution_count": 1,
   "metadata": {},
   "outputs": [],
   "source": [
    "import requests\n",
    "from bs4 import BeautifulSoup\n",
    "import lxml\n",
    "import pandas as pd\n",
    "import numpy as np\n",
    "import pickle\n",
    "import csv"
   ]
  },
  {
   "cell_type": "code",
   "execution_count": 2,
   "metadata": {
    "tags": []
   },
   "outputs": [],
   "source": [
    "prefix = \"https://en.wikipedia.org\"\n",
    "descartes = \"/wiki/Ren%C3%A9_Descartes\"\n",
    "#print(parse_connections(prefix, descartes))\n",
    "ibn = \"/wiki/Ibn_al-Haytham\"\n",
    "#print(parse_connections(prefix, ibn))"
   ]
  },
  {
   "cell_type": "code",
   "execution_count": 3,
   "metadata": {},
   "outputs": [],
   "source": [
    "# This function is passed two components of a url, the general English wikipedia url\n",
    "# and the reference to a particular page. It then pulls the html of the page specified\n",
    "# and turns it into a parseable \"soup\" using the BeautifulSoup package. It verifies\n",
    "# that the page has \"div\" components with the labels \"Influenced\" and \"Influences\" or \n",
    "# \"Influenced by\". These are reliable indicators of the page being a philosopher or\n",
    "# at the very least an relevant figure in philosophy. If the page doesn't match an expected\n",
    "# format then it returns four None. Otherwise, it calls influences_parse or influenced_by_parse\n",
    "# depending on the pages format.\n",
    "def parse_connections(prefix, ref):\n",
    "    page = requests.get(prefix + ref)\n",
    "    soup = BeautifulSoup(page.content, \"lxml\")\n",
    "\n",
    "    influences = soup.find(\"div\", string = \"Influences\")\n",
    "    influenced = soup.find(\"div\", string = \"Influenced\")\n",
    "    influenced_by = soup.find(\"div\", string = \"Influenced\\xa0by\")\n",
    "\n",
    "    if influences is None and influenced_by is None: return None, None, None, None\n",
    "    if influenced is None: return None, None, None, None\n",
    "\n",
    "    if influenced_by is None: return influences_parse(soup, ref)\n",
    "    else: return influenced_by_parse(soup, ref)\n",
    "\n",
    "# -----------------------------------------------------------------\n",
    "# It's important to know that most philosophers had both \"Influenced\" and \"Influences\" as\n",
    "# \"div\" components whereas most Islamic scholars had \"Influenced\" and \"Influenced by\". The\n",
    "# division of the parse functions is to deal with these two cases.\n",
    "# -----------------------------------------------------------------\n",
    "\n",
    "# This function parses pages that have a \"div\" component called \"Influences\". It\n",
    "# has a page's html \"soup\" passed as well as it's ref. It begins by finding the title\n",
    "# text of the page which is the philosopher's name. It then finds the \"divs\" of class\n",
    "# \"center\". The first two of which are (hopefully) reliably the \"Influences\" and\n",
    "# \"Influenced\" components. Then the groups of philosophers labeled \"Influences\" and \n",
    "# \"Influenced\" are converted into list objects. \n",
    "def influences_parse(soup, ref):\n",
    "\n",
    "    name = soup.find(\"h1\", id = \"firstHeading\").text\n",
    "    divs = soup.find_all(\"div\", class_ = \"center\")\n",
    "\n",
    "    infs = divs[0]\n",
    "    infd = divs[1]\n",
    "\n",
    "    infs = bs4_list_convert(infs)\n",
    "    infd = bs4_list_convert(infd)\n",
    "\n",
    "    return name, ref, infs, infd\n",
    "\n",
    "# This function does the same as above except instead of finding \"div\" components \n",
    "# of class \"center\" it must find \"ul\" components of class \"NavContent\". This is due\n",
    "# to the different html structure of pages with \"div\" components called \"Influenced by\". \n",
    "def influenced_by_parse(soup, ref):\n",
    "\n",
    "    name = soup.find(\"h1\", id = \"firstHeading\").text\n",
    "    uls = soup.find_all(\"ul\", class_ = \"NavContent\")\n",
    "\n",
    "    infs = uls[0]\n",
    "    infd = uls[1]\n",
    "\n",
    "    infs = bs4_list_convert(infs)\n",
    "    infd = bs4_list_convert(infd)\n",
    "\n",
    "    return name, ref, infs, infd\n",
    "\n",
    "# This function parses an html component containing a list of philosophers. \n",
    "# It receives a component, div, and finds all of the \"a\" components and extracts\n",
    "# their text and ref (this may cause some issues with philosophers whose name is \n",
    "# different in their page heading than when their in a list). It then returns a list\n",
    "# of all the names and refs of all of the philosophers. \n",
    "def bs4_list_convert(div):\n",
    "    l = []\n",
    "\n",
    "    for person in div.find_all(\"a\", href = True):\n",
    "        name = person.get_text()\n",
    "        ref = person[\"href\"]\n",
    "\n",
    "        if not \"[\" in name and not \"wikipedia\" in ref:\n",
    "            l.append([name,ref]) \n",
    "\n",
    "    return l"
   ]
  },
  {
   "cell_type": "code",
   "execution_count": 4,
   "metadata": {
    "tags": []
   },
   "outputs": [],
   "source": [
    "# This function is passed two string components of a url for a philosopher's wiki\n",
    "# page as well as a dictionary of philosophers. If the philosophers dictionary\n",
    "# is None then the function simply parses the wiki page of the one philosopher and\n",
    "# returns a dictionary with just that entry. If the dictionary already has entries\n",
    "# then it iterates through that philosophers influencers and influencees, parses\n",
    "# their wiki page and adds them to the philosophers dictionary. It then returns the\n",
    "# larger dictionary. \n",
    "def phil_crawl(prefix, ref, philosophers):\n",
    "\n",
    "    name, ref, infs, infd = parse_connections(prefix, ref)\n",
    "    if philosophers is None: return {name:[ref, [row[0] for row in infs], [row[0] for row in infd]]}\n",
    "\n",
    "    for person in infs:\n",
    "        if not person[0] in philosophers.keys():\n",
    "            name, ref, ifs, ifd = parse_connections(prefix, person[1])\n",
    "            if not name is None: \n",
    "                philosophers[name] = [ref, [row[0] for row in ifs], [row[0] for row in ifd]]\n",
    "\n",
    "    for person in infd: \n",
    "        if not person[0] in philosophers.keys():\n",
    "            name, ref, ifs, ifd = parse_connections(prefix, person[1])\n",
    "            if not name is None: \n",
    "                philosophers[name] = [ref, [row[0] for row in ifs], [row[0] for row in ifd]]\n",
    "\n",
    "    return philosophers\n"
   ]
  },
  {
   "cell_type": "code",
   "execution_count": 5,
   "metadata": {
    "tags": []
   },
   "outputs": [
    {
     "output_type": "stream",
     "name": "stdout",
     "text": "1\n22\n164\n481\n644\n693\n710\n728\n743\n763\n769\n771\n771\n771\n771\n771\n"
    }
   ],
   "source": [
    "# This function is where the network is fully collected. It is passed two\n",
    "# components of a philosopher's wiki page url to start the web crawl at. \n",
    "# It also takes the number of iterations which is essentially the number of\n",
    "# steps away from the starting philosopher you would want to go. It starts\n",
    "# by initializing the dictionary with a phil_crawl that returns a dictionary\n",
    "# with just one entry. Then it iteratively goes through the entire dictionary\n",
    "# and for any entry that it hasn't already, it uses phil_crawl to add all\n",
    "# their connections to the dictionary. This results in a network with all the\n",
    "# connections to the first philosopher that lie within the same number of\n",
    "# degree as iterations\n",
    "def iterated_crawl(prefix, ref, iterations):\n",
    "    phils = phil_crawl(prefix, ref, None)\n",
    "    temp = phils.copy()\n",
    "    searched = []\n",
    "    print(len(phils))\n",
    "\n",
    "    for i in range(iterations):\n",
    "        for key, value in phils.items():\n",
    "            if not key in searched: \n",
    "                temp = phil_crawl(prefix, value[0], temp).copy()\n",
    "                searched.append(key)\n",
    "        phils = temp.copy()\n",
    "        print(len(phils))\n",
    "\n",
    "    return phils\n",
    "    \n",
    "# philosophers = iterated_crawl(prefix, descartes, 15)"
   ]
  },
  {
   "cell_type": "code",
   "execution_count": 7,
   "metadata": {
    "tags": []
   },
   "outputs": [],
   "source": [
    "# saves the network in .pkl file\n",
    "# f = open(r'philosophers3.pkl', 'wb')\n",
    "# pickle.dump(philosophers, f)\n",
    "# f.close()\n",
    "\n",
    "# loads the first version of the network from .pkl file \n",
    "# (didn't account for \"influenced by\" formats)\n",
    "f = open(r'philosophers.pkl', 'rb')\n",
    "phil_1 = pickle.load(f)\n",
    "f.close()\n",
    "\n",
    "# loads the second version of the network from .pkl file \n",
    "# (now accounts for \"influenced by\")\n",
    "f = open(r'philosophers2.pkl', 'rb')\n",
    "phil_2 = pickle.load(f)\n",
    "f.close()\n",
    "\n",
    "# loads the third version of the network from .pkl file \n",
    "# (more efficient crawling for some reason has more nodes)\n",
    "f = open(r'philosophers3.pkl', 'rb')\n",
    "phil_3 = pickle.load(f)\n",
    "f.close()\n"
   ]
  },
  {
   "cell_type": "code",
   "execution_count": 11,
   "metadata": {
    "tags": []
   },
   "outputs": [
    {
     "output_type": "stream",
     "name": "stdout",
     "text": "Ibn al-Haytham\nOmar Khayyam\nAl-Khazini\nMulla Sadra\nAl-Khalil ibn Ahmad al-Farahidi\nMiskawayh\nNasir al-Din al-Tusi\nIbn Tufail\nAbu Amr of Basra\nSibawayh\nSam Harris\nMichael Sandel\nRumi\nMuhammad Asad\nIsrar Ahmed\nIbn Tumart\nIbn al-Nafis\nAbu Madyan\nAbu Said al-Baji\nAl-Suyuti\nIsmail Haqqi Bursevi\nSaid Nursî\nNiftawayh\nAbu Turab al-Zahiri\nBayazid Bastami\nMuhammad Abduh\nRashid Rida\nIbn Hazm\nAbu Hayyan al-Gharnati\nAbdul Qadir Gilani\nAbd as-Salam ibn Mashish al-Alami\nAbul Hasan ash-Shadhili\nIbn Taymiyyah\nAl-Kamal ibn al-Humam\nAl-Sha&#39;rani\nOsman Fazli\nDawud al-Zahiri\nMuhammad bin Dawud al-Zahiri\nAbu Abd al-Rahman Ibn Aqil al-Zahiri\nAl-Hallaj\nJamāl al-Dīn al-Afghānī\nMuhammad Nasiruddin al-Albani\nIbn Khaldun\nIbn Mada&#39;\nAl-Dhahabi\nMuhammad al-Jazuli\nAl-Hasan ibn &#39;Ali al-Barbahari\nIbn Battah\nIbn Qudamah\nMuhammad ibn Abd al-Wahhab\nAbu Hanifa\nZakariyya al-Ansari\nIbn Hajar al-Haytami\nIbrahim al-Bajuri\nAl-Shafiʽi\nAhmad ibn Hanbal\nIbn Kullab\nIshaq ibn Rahwayh\nYaḥya ibn Maʻin\nAl-Tabari\nRuwaym\nImadaddin Nasimi\nZaynab bint ʿUmar b. al-Kindī\nIbn Rajab\nMalik ibn Anas\nShah Waliullah Dehlawi\nSayyida Nafisa\nʽAbd al-Razzaq al-Sanʽani\nHarith al-Muhasibi\nJunayd of Baghdad\nMuhammad al-Bukhari\nAl-Ash&#39;ari\nIbn Hibban\nIbrahim ibn Ya&#39;qub al-Juzajani\nHaji Bektash Veli\nHisham ibn Urwah\nIbn Shihab al-Zuhri\nShah Abdul Aziz\nRahmatullah Kairanawi\nRashid Ahmad Gangohi\nMahmud Hasan Deobandi\nKhalil Ahmad Saharanpuri\nAshraf Ali Thanwi\nHussain Ahmed Madani\nMuhammad Ilyas Kandhlawi\nMuhammad Zakariyya al-Kandhlawi\nSufyan al-Thawri\nAbu Bakr Shibli\nMumshad Al-Dinawari\nIbn Abi Asim\nAl-Hakim al-Nishapuri\nAbu Dawood\nAhmad Yasawi\nIbn Ishaq\nMajid Ali Jaunpuri\nShamsul Haque Faridpuri\nAbdul Qadir Raipuri\nInamul Hasan Kandhlawi\n------------------\nDomingo Faustino Sarmiento\nAlfred Schuler\nMladen Dolar\nDmitry Pisarev\nYahya ibn Ma&#39;in\nIbn Karram\nAhmad Zayni Dahlan\nSheikh Mustafa\nArsyad Thawil al-Bantani\n"
    }
   ],
   "source": [
    "# checks for which entries were in network version 2\n",
    "# that weren't in network version 1\n",
    "for p in phil_2.keys():\n",
    "    if not p in phil_1.keys():\n",
    "        print(p)\n",
    "\n",
    "print(\"------------------\")\n",
    "\n",
    "# checks for which entries were in network version 3\n",
    "# that weren't in network version 2\n",
    "for p in phil_3.keys():\n",
    "    if not p in phil_2.keys():\n",
    "        print(p)"
   ]
  },
  {
   "cell_type": "code",
   "execution_count": 5,
   "metadata": {
    "tags": []
   },
   "outputs": [
    {
     "output_type": "execute_result",
     "data": {
      "text/plain": [
       "[['Born', '1596-03-31'], ['Died', '1650-02-11'], ['Nationality', 'French']]"
      ]
     },
     "metadata": {},
     "execution_count": 5
    }
   ],
   "source": [
    "\n",
    "vars = [\"Born\",\"Died\",\"Nationality\"]\n",
    "\n",
    "def table_scrape(prefix, ref, vars):\n",
    "\n",
    "    page = requests.get(prefix + ref)\n",
    "    soup = BeautifulSoup(page.content, \"lxml\")\n",
    "\n",
    "    table = soup.find(\"tbody\")\n",
    "    rows = table.find_all(\"tr\")\n",
    "\n",
    "    row_list = []\n",
    "    for r in rows:\n",
    "        th = r.find(\"th\")\n",
    "        td = r.find(\"td\")\n",
    "        if not th is None and not td is None and th.text in vars:\n",
    "            if td.findChild() is None: \n",
    "                row_list.append([th.text,td.text])\n",
    "            elif th.text in [\"Born\",\"Died\"]:\n",
    "                row_list.append([th.text,td.find().text.replace(\"(\",\"\").replace(\")\",\"\")])\n",
    "            else:\n",
    "                content = td.find_all()\n",
    "                content = [c.text for c in content]\n",
    "                row_list.append([th.text,content])\n",
    "\n",
    "    return row_list\n",
    "\n",
    "\n",
    "table_scrape(prefix, descartes, vars)"
   ]
  },
  {
   "cell_type": "code",
   "execution_count": 8,
   "metadata": {},
   "outputs": [
    {
     "output_type": "error",
     "ename": "KeyboardInterrupt",
     "evalue": "",
     "traceback": [
      "\u001b[1;31m---------------------------------------------------------------------------\u001b[0m",
      "\u001b[1;31mKeyboardInterrupt\u001b[0m                         Traceback (most recent call last)",
      "\u001b[1;32m<ipython-input-8-f0172fe95837>\u001b[0m in \u001b[0;36m<module>\u001b[1;34m\u001b[0m\n\u001b[0;32m      8\u001b[0m     \u001b[1;32mreturn\u001b[0m \u001b[0mphils\u001b[0m\u001b[1;33m\u001b[0m\u001b[1;33m\u001b[0m\u001b[0m\n\u001b[0;32m      9\u001b[0m \u001b[1;33m\u001b[0m\u001b[0m\n\u001b[1;32m---> 10\u001b[1;33m \u001b[0madd_info\u001b[0m\u001b[1;33m(\u001b[0m\u001b[0mprefix\u001b[0m\u001b[1;33m,\u001b[0m \u001b[0mphil_3\u001b[0m\u001b[1;33m,\u001b[0m \u001b[0mvars\u001b[0m\u001b[1;33m)\u001b[0m\u001b[1;33m\u001b[0m\u001b[1;33m\u001b[0m\u001b[0m\n\u001b[0m",
      "\u001b[1;32m<ipython-input-8-f0172fe95837>\u001b[0m in \u001b[0;36madd_info\u001b[1;34m(prefix, phils, vars)\u001b[0m\n\u001b[0;32m      2\u001b[0m \u001b[1;33m\u001b[0m\u001b[0m\n\u001b[0;32m      3\u001b[0m     \u001b[1;32mfor\u001b[0m \u001b[0mkey\u001b[0m\u001b[1;33m,\u001b[0m \u001b[0mvalue\u001b[0m \u001b[1;32min\u001b[0m \u001b[0mphils\u001b[0m\u001b[1;33m.\u001b[0m\u001b[0mitems\u001b[0m\u001b[1;33m(\u001b[0m\u001b[1;33m)\u001b[0m\u001b[1;33m:\u001b[0m\u001b[1;33m\u001b[0m\u001b[1;33m\u001b[0m\u001b[0m\n\u001b[1;32m----> 4\u001b[1;33m         \u001b[0mattrs\u001b[0m \u001b[1;33m=\u001b[0m \u001b[0mtable_scrape\u001b[0m\u001b[1;33m(\u001b[0m\u001b[0mprefix\u001b[0m\u001b[1;33m,\u001b[0m\u001b[0mvalue\u001b[0m\u001b[1;33m[\u001b[0m\u001b[1;36m0\u001b[0m\u001b[1;33m]\u001b[0m\u001b[1;33m,\u001b[0m\u001b[0mvars\u001b[0m\u001b[1;33m)\u001b[0m\u001b[1;33m\u001b[0m\u001b[1;33m\u001b[0m\u001b[0m\n\u001b[0m\u001b[0;32m      5\u001b[0m         \u001b[1;32mfor\u001b[0m \u001b[0ma\u001b[0m \u001b[1;32min\u001b[0m \u001b[0mattrs\u001b[0m\u001b[1;33m:\u001b[0m\u001b[1;33m\u001b[0m\u001b[1;33m\u001b[0m\u001b[0m\n\u001b[0;32m      6\u001b[0m             \u001b[0mvalue\u001b[0m\u001b[1;33m.\u001b[0m\u001b[0mappend\u001b[0m\u001b[1;33m(\u001b[0m\u001b[0ma\u001b[0m\u001b[1;33m[\u001b[0m\u001b[1;36m1\u001b[0m\u001b[1;33m]\u001b[0m\u001b[1;33m)\u001b[0m\u001b[1;33m\u001b[0m\u001b[1;33m\u001b[0m\u001b[0m\n",
      "\u001b[1;32m<ipython-input-5-a184d40dfaba>\u001b[0m in \u001b[0;36mtable_scrape\u001b[1;34m(prefix, ref, vars)\u001b[0m\n\u001b[0;32m      3\u001b[0m \u001b[1;32mdef\u001b[0m \u001b[0mtable_scrape\u001b[0m\u001b[1;33m(\u001b[0m\u001b[0mprefix\u001b[0m\u001b[1;33m,\u001b[0m \u001b[0mref\u001b[0m\u001b[1;33m,\u001b[0m \u001b[0mvars\u001b[0m\u001b[1;33m)\u001b[0m\u001b[1;33m:\u001b[0m\u001b[1;33m\u001b[0m\u001b[1;33m\u001b[0m\u001b[0m\n\u001b[0;32m      4\u001b[0m \u001b[1;33m\u001b[0m\u001b[0m\n\u001b[1;32m----> 5\u001b[1;33m     \u001b[0mpage\u001b[0m \u001b[1;33m=\u001b[0m \u001b[0mrequests\u001b[0m\u001b[1;33m.\u001b[0m\u001b[0mget\u001b[0m\u001b[1;33m(\u001b[0m\u001b[0mprefix\u001b[0m \u001b[1;33m+\u001b[0m \u001b[0mref\u001b[0m\u001b[1;33m)\u001b[0m\u001b[1;33m\u001b[0m\u001b[1;33m\u001b[0m\u001b[0m\n\u001b[0m\u001b[0;32m      6\u001b[0m     \u001b[0msoup\u001b[0m \u001b[1;33m=\u001b[0m \u001b[0mBeautifulSoup\u001b[0m\u001b[1;33m(\u001b[0m\u001b[0mpage\u001b[0m\u001b[1;33m.\u001b[0m\u001b[0mcontent\u001b[0m\u001b[1;33m,\u001b[0m \u001b[1;34m\"lxml\"\u001b[0m\u001b[1;33m)\u001b[0m\u001b[1;33m\u001b[0m\u001b[1;33m\u001b[0m\u001b[0m\n\u001b[0;32m      7\u001b[0m \u001b[1;33m\u001b[0m\u001b[0m\n",
      "\u001b[1;32m~\\AppData\\Local\\Programs\\Python\\Python38-32\\lib\\site-packages\\requests\\api.py\u001b[0m in \u001b[0;36mget\u001b[1;34m(url, params, **kwargs)\u001b[0m\n\u001b[0;32m     74\u001b[0m \u001b[1;33m\u001b[0m\u001b[0m\n\u001b[0;32m     75\u001b[0m     \u001b[0mkwargs\u001b[0m\u001b[1;33m.\u001b[0m\u001b[0msetdefault\u001b[0m\u001b[1;33m(\u001b[0m\u001b[1;34m'allow_redirects'\u001b[0m\u001b[1;33m,\u001b[0m \u001b[1;32mTrue\u001b[0m\u001b[1;33m)\u001b[0m\u001b[1;33m\u001b[0m\u001b[1;33m\u001b[0m\u001b[0m\n\u001b[1;32m---> 76\u001b[1;33m     \u001b[1;32mreturn\u001b[0m \u001b[0mrequest\u001b[0m\u001b[1;33m(\u001b[0m\u001b[1;34m'get'\u001b[0m\u001b[1;33m,\u001b[0m \u001b[0murl\u001b[0m\u001b[1;33m,\u001b[0m \u001b[0mparams\u001b[0m\u001b[1;33m=\u001b[0m\u001b[0mparams\u001b[0m\u001b[1;33m,\u001b[0m \u001b[1;33m**\u001b[0m\u001b[0mkwargs\u001b[0m\u001b[1;33m)\u001b[0m\u001b[1;33m\u001b[0m\u001b[1;33m\u001b[0m\u001b[0m\n\u001b[0m\u001b[0;32m     77\u001b[0m \u001b[1;33m\u001b[0m\u001b[0m\n\u001b[0;32m     78\u001b[0m \u001b[1;33m\u001b[0m\u001b[0m\n",
      "\u001b[1;32m~\\AppData\\Local\\Programs\\Python\\Python38-32\\lib\\site-packages\\requests\\api.py\u001b[0m in \u001b[0;36mrequest\u001b[1;34m(method, url, **kwargs)\u001b[0m\n\u001b[0;32m     59\u001b[0m     \u001b[1;31m# cases, and look like a memory leak in others.\u001b[0m\u001b[1;33m\u001b[0m\u001b[1;33m\u001b[0m\u001b[1;33m\u001b[0m\u001b[0m\n\u001b[0;32m     60\u001b[0m     \u001b[1;32mwith\u001b[0m \u001b[0msessions\u001b[0m\u001b[1;33m.\u001b[0m\u001b[0mSession\u001b[0m\u001b[1;33m(\u001b[0m\u001b[1;33m)\u001b[0m \u001b[1;32mas\u001b[0m \u001b[0msession\u001b[0m\u001b[1;33m:\u001b[0m\u001b[1;33m\u001b[0m\u001b[1;33m\u001b[0m\u001b[0m\n\u001b[1;32m---> 61\u001b[1;33m         \u001b[1;32mreturn\u001b[0m \u001b[0msession\u001b[0m\u001b[1;33m.\u001b[0m\u001b[0mrequest\u001b[0m\u001b[1;33m(\u001b[0m\u001b[0mmethod\u001b[0m\u001b[1;33m=\u001b[0m\u001b[0mmethod\u001b[0m\u001b[1;33m,\u001b[0m \u001b[0murl\u001b[0m\u001b[1;33m=\u001b[0m\u001b[0murl\u001b[0m\u001b[1;33m,\u001b[0m \u001b[1;33m**\u001b[0m\u001b[0mkwargs\u001b[0m\u001b[1;33m)\u001b[0m\u001b[1;33m\u001b[0m\u001b[1;33m\u001b[0m\u001b[0m\n\u001b[0m\u001b[0;32m     62\u001b[0m \u001b[1;33m\u001b[0m\u001b[0m\n\u001b[0;32m     63\u001b[0m \u001b[1;33m\u001b[0m\u001b[0m\n",
      "\u001b[1;32m~\\AppData\\Local\\Programs\\Python\\Python38-32\\lib\\site-packages\\requests\\sessions.py\u001b[0m in \u001b[0;36mrequest\u001b[1;34m(self, method, url, params, data, headers, cookies, files, auth, timeout, allow_redirects, proxies, hooks, stream, verify, cert, json)\u001b[0m\n\u001b[0;32m    528\u001b[0m         }\n\u001b[0;32m    529\u001b[0m         \u001b[0msend_kwargs\u001b[0m\u001b[1;33m.\u001b[0m\u001b[0mupdate\u001b[0m\u001b[1;33m(\u001b[0m\u001b[0msettings\u001b[0m\u001b[1;33m)\u001b[0m\u001b[1;33m\u001b[0m\u001b[1;33m\u001b[0m\u001b[0m\n\u001b[1;32m--> 530\u001b[1;33m         \u001b[0mresp\u001b[0m \u001b[1;33m=\u001b[0m \u001b[0mself\u001b[0m\u001b[1;33m.\u001b[0m\u001b[0msend\u001b[0m\u001b[1;33m(\u001b[0m\u001b[0mprep\u001b[0m\u001b[1;33m,\u001b[0m \u001b[1;33m**\u001b[0m\u001b[0msend_kwargs\u001b[0m\u001b[1;33m)\u001b[0m\u001b[1;33m\u001b[0m\u001b[1;33m\u001b[0m\u001b[0m\n\u001b[0m\u001b[0;32m    531\u001b[0m \u001b[1;33m\u001b[0m\u001b[0m\n\u001b[0;32m    532\u001b[0m         \u001b[1;32mreturn\u001b[0m \u001b[0mresp\u001b[0m\u001b[1;33m\u001b[0m\u001b[1;33m\u001b[0m\u001b[0m\n",
      "\u001b[1;32m~\\AppData\\Local\\Programs\\Python\\Python38-32\\lib\\site-packages\\requests\\sessions.py\u001b[0m in \u001b[0;36msend\u001b[1;34m(self, request, **kwargs)\u001b[0m\n\u001b[0;32m    641\u001b[0m \u001b[1;33m\u001b[0m\u001b[0m\n\u001b[0;32m    642\u001b[0m         \u001b[1;31m# Send the request\u001b[0m\u001b[1;33m\u001b[0m\u001b[1;33m\u001b[0m\u001b[1;33m\u001b[0m\u001b[0m\n\u001b[1;32m--> 643\u001b[1;33m         \u001b[0mr\u001b[0m \u001b[1;33m=\u001b[0m \u001b[0madapter\u001b[0m\u001b[1;33m.\u001b[0m\u001b[0msend\u001b[0m\u001b[1;33m(\u001b[0m\u001b[0mrequest\u001b[0m\u001b[1;33m,\u001b[0m \u001b[1;33m**\u001b[0m\u001b[0mkwargs\u001b[0m\u001b[1;33m)\u001b[0m\u001b[1;33m\u001b[0m\u001b[1;33m\u001b[0m\u001b[0m\n\u001b[0m\u001b[0;32m    644\u001b[0m \u001b[1;33m\u001b[0m\u001b[0m\n\u001b[0;32m    645\u001b[0m         \u001b[1;31m# Total elapsed time of the request (approximately)\u001b[0m\u001b[1;33m\u001b[0m\u001b[1;33m\u001b[0m\u001b[1;33m\u001b[0m\u001b[0m\n",
      "\u001b[1;32m~\\AppData\\Local\\Programs\\Python\\Python38-32\\lib\\site-packages\\requests\\adapters.py\u001b[0m in \u001b[0;36msend\u001b[1;34m(self, request, stream, timeout, verify, cert, proxies)\u001b[0m\n\u001b[0;32m    437\u001b[0m         \u001b[1;32mtry\u001b[0m\u001b[1;33m:\u001b[0m\u001b[1;33m\u001b[0m\u001b[1;33m\u001b[0m\u001b[0m\n\u001b[0;32m    438\u001b[0m             \u001b[1;32mif\u001b[0m \u001b[1;32mnot\u001b[0m \u001b[0mchunked\u001b[0m\u001b[1;33m:\u001b[0m\u001b[1;33m\u001b[0m\u001b[1;33m\u001b[0m\u001b[0m\n\u001b[1;32m--> 439\u001b[1;33m                 resp = conn.urlopen(\n\u001b[0m\u001b[0;32m    440\u001b[0m                     \u001b[0mmethod\u001b[0m\u001b[1;33m=\u001b[0m\u001b[0mrequest\u001b[0m\u001b[1;33m.\u001b[0m\u001b[0mmethod\u001b[0m\u001b[1;33m,\u001b[0m\u001b[1;33m\u001b[0m\u001b[1;33m\u001b[0m\u001b[0m\n\u001b[0;32m    441\u001b[0m                     \u001b[0murl\u001b[0m\u001b[1;33m=\u001b[0m\u001b[0murl\u001b[0m\u001b[1;33m,\u001b[0m\u001b[1;33m\u001b[0m\u001b[1;33m\u001b[0m\u001b[0m\n",
      "\u001b[1;32m~\\AppData\\Local\\Programs\\Python\\Python38-32\\lib\\site-packages\\urllib3\\connectionpool.py\u001b[0m in \u001b[0;36murlopen\u001b[1;34m(self, method, url, body, headers, retries, redirect, assert_same_host, timeout, pool_timeout, release_conn, chunked, body_pos, **response_kw)\u001b[0m\n\u001b[0;32m    668\u001b[0m \u001b[1;33m\u001b[0m\u001b[0m\n\u001b[0;32m    669\u001b[0m             \u001b[1;31m# Make the request on the httplib connection object.\u001b[0m\u001b[1;33m\u001b[0m\u001b[1;33m\u001b[0m\u001b[1;33m\u001b[0m\u001b[0m\n\u001b[1;32m--> 670\u001b[1;33m             httplib_response = self._make_request(\n\u001b[0m\u001b[0;32m    671\u001b[0m                 \u001b[0mconn\u001b[0m\u001b[1;33m,\u001b[0m\u001b[1;33m\u001b[0m\u001b[1;33m\u001b[0m\u001b[0m\n\u001b[0;32m    672\u001b[0m                 \u001b[0mmethod\u001b[0m\u001b[1;33m,\u001b[0m\u001b[1;33m\u001b[0m\u001b[1;33m\u001b[0m\u001b[0m\n",
      "\u001b[1;32m~\\AppData\\Local\\Programs\\Python\\Python38-32\\lib\\site-packages\\urllib3\\connectionpool.py\u001b[0m in \u001b[0;36m_make_request\u001b[1;34m(self, conn, method, url, timeout, chunked, **httplib_request_kw)\u001b[0m\n\u001b[0;32m    424\u001b[0m                     \u001b[1;31m# Python 3 (including for exceptions like SystemExit).\u001b[0m\u001b[1;33m\u001b[0m\u001b[1;33m\u001b[0m\u001b[1;33m\u001b[0m\u001b[0m\n\u001b[0;32m    425\u001b[0m                     \u001b[1;31m# Otherwise it looks like a bug in the code.\u001b[0m\u001b[1;33m\u001b[0m\u001b[1;33m\u001b[0m\u001b[1;33m\u001b[0m\u001b[0m\n\u001b[1;32m--> 426\u001b[1;33m                     \u001b[0msix\u001b[0m\u001b[1;33m.\u001b[0m\u001b[0mraise_from\u001b[0m\u001b[1;33m(\u001b[0m\u001b[0me\u001b[0m\u001b[1;33m,\u001b[0m \u001b[1;32mNone\u001b[0m\u001b[1;33m)\u001b[0m\u001b[1;33m\u001b[0m\u001b[1;33m\u001b[0m\u001b[0m\n\u001b[0m\u001b[0;32m    427\u001b[0m         \u001b[1;32mexcept\u001b[0m \u001b[1;33m(\u001b[0m\u001b[0mSocketTimeout\u001b[0m\u001b[1;33m,\u001b[0m \u001b[0mBaseSSLError\u001b[0m\u001b[1;33m,\u001b[0m \u001b[0mSocketError\u001b[0m\u001b[1;33m)\u001b[0m \u001b[1;32mas\u001b[0m \u001b[0me\u001b[0m\u001b[1;33m:\u001b[0m\u001b[1;33m\u001b[0m\u001b[1;33m\u001b[0m\u001b[0m\n\u001b[0;32m    428\u001b[0m             \u001b[0mself\u001b[0m\u001b[1;33m.\u001b[0m\u001b[0m_raise_timeout\u001b[0m\u001b[1;33m(\u001b[0m\u001b[0merr\u001b[0m\u001b[1;33m=\u001b[0m\u001b[0me\u001b[0m\u001b[1;33m,\u001b[0m \u001b[0murl\u001b[0m\u001b[1;33m=\u001b[0m\u001b[0murl\u001b[0m\u001b[1;33m,\u001b[0m \u001b[0mtimeout_value\u001b[0m\u001b[1;33m=\u001b[0m\u001b[0mread_timeout\u001b[0m\u001b[1;33m)\u001b[0m\u001b[1;33m\u001b[0m\u001b[1;33m\u001b[0m\u001b[0m\n",
      "\u001b[1;32m~\\AppData\\Local\\Programs\\Python\\Python38-32\\lib\\site-packages\\urllib3\\packages\\six.py\u001b[0m in \u001b[0;36mraise_from\u001b[1;34m(value, from_value)\u001b[0m\n",
      "\u001b[1;32m~\\AppData\\Local\\Programs\\Python\\Python38-32\\lib\\site-packages\\urllib3\\connectionpool.py\u001b[0m in \u001b[0;36m_make_request\u001b[1;34m(self, conn, method, url, timeout, chunked, **httplib_request_kw)\u001b[0m\n\u001b[0;32m    419\u001b[0m                 \u001b[1;31m# Python 3\u001b[0m\u001b[1;33m\u001b[0m\u001b[1;33m\u001b[0m\u001b[1;33m\u001b[0m\u001b[0m\n\u001b[0;32m    420\u001b[0m                 \u001b[1;32mtry\u001b[0m\u001b[1;33m:\u001b[0m\u001b[1;33m\u001b[0m\u001b[1;33m\u001b[0m\u001b[0m\n\u001b[1;32m--> 421\u001b[1;33m                     \u001b[0mhttplib_response\u001b[0m \u001b[1;33m=\u001b[0m \u001b[0mconn\u001b[0m\u001b[1;33m.\u001b[0m\u001b[0mgetresponse\u001b[0m\u001b[1;33m(\u001b[0m\u001b[1;33m)\u001b[0m\u001b[1;33m\u001b[0m\u001b[1;33m\u001b[0m\u001b[0m\n\u001b[0m\u001b[0;32m    422\u001b[0m                 \u001b[1;32mexcept\u001b[0m \u001b[0mBaseException\u001b[0m \u001b[1;32mas\u001b[0m \u001b[0me\u001b[0m\u001b[1;33m:\u001b[0m\u001b[1;33m\u001b[0m\u001b[1;33m\u001b[0m\u001b[0m\n\u001b[0;32m    423\u001b[0m                     \u001b[1;31m# Remove the TypeError from the exception chain in\u001b[0m\u001b[1;33m\u001b[0m\u001b[1;33m\u001b[0m\u001b[1;33m\u001b[0m\u001b[0m\n",
      "\u001b[1;32m~\\AppData\\Local\\Programs\\Python\\Python38-32\\lib\\http\\client.py\u001b[0m in \u001b[0;36mgetresponse\u001b[1;34m(self)\u001b[0m\n\u001b[0;32m   1345\u001b[0m         \u001b[1;32mtry\u001b[0m\u001b[1;33m:\u001b[0m\u001b[1;33m\u001b[0m\u001b[1;33m\u001b[0m\u001b[0m\n\u001b[0;32m   1346\u001b[0m             \u001b[1;32mtry\u001b[0m\u001b[1;33m:\u001b[0m\u001b[1;33m\u001b[0m\u001b[1;33m\u001b[0m\u001b[0m\n\u001b[1;32m-> 1347\u001b[1;33m                 \u001b[0mresponse\u001b[0m\u001b[1;33m.\u001b[0m\u001b[0mbegin\u001b[0m\u001b[1;33m(\u001b[0m\u001b[1;33m)\u001b[0m\u001b[1;33m\u001b[0m\u001b[1;33m\u001b[0m\u001b[0m\n\u001b[0m\u001b[0;32m   1348\u001b[0m             \u001b[1;32mexcept\u001b[0m \u001b[0mConnectionError\u001b[0m\u001b[1;33m:\u001b[0m\u001b[1;33m\u001b[0m\u001b[1;33m\u001b[0m\u001b[0m\n\u001b[0;32m   1349\u001b[0m                 \u001b[0mself\u001b[0m\u001b[1;33m.\u001b[0m\u001b[0mclose\u001b[0m\u001b[1;33m(\u001b[0m\u001b[1;33m)\u001b[0m\u001b[1;33m\u001b[0m\u001b[1;33m\u001b[0m\u001b[0m\n",
      "\u001b[1;32m~\\AppData\\Local\\Programs\\Python\\Python38-32\\lib\\http\\client.py\u001b[0m in \u001b[0;36mbegin\u001b[1;34m(self)\u001b[0m\n\u001b[0;32m    305\u001b[0m         \u001b[1;31m# read until we get a non-100 response\u001b[0m\u001b[1;33m\u001b[0m\u001b[1;33m\u001b[0m\u001b[1;33m\u001b[0m\u001b[0m\n\u001b[0;32m    306\u001b[0m         \u001b[1;32mwhile\u001b[0m \u001b[1;32mTrue\u001b[0m\u001b[1;33m:\u001b[0m\u001b[1;33m\u001b[0m\u001b[1;33m\u001b[0m\u001b[0m\n\u001b[1;32m--> 307\u001b[1;33m             \u001b[0mversion\u001b[0m\u001b[1;33m,\u001b[0m \u001b[0mstatus\u001b[0m\u001b[1;33m,\u001b[0m \u001b[0mreason\u001b[0m \u001b[1;33m=\u001b[0m \u001b[0mself\u001b[0m\u001b[1;33m.\u001b[0m\u001b[0m_read_status\u001b[0m\u001b[1;33m(\u001b[0m\u001b[1;33m)\u001b[0m\u001b[1;33m\u001b[0m\u001b[1;33m\u001b[0m\u001b[0m\n\u001b[0m\u001b[0;32m    308\u001b[0m             \u001b[1;32mif\u001b[0m \u001b[0mstatus\u001b[0m \u001b[1;33m!=\u001b[0m \u001b[0mCONTINUE\u001b[0m\u001b[1;33m:\u001b[0m\u001b[1;33m\u001b[0m\u001b[1;33m\u001b[0m\u001b[0m\n\u001b[0;32m    309\u001b[0m                 \u001b[1;32mbreak\u001b[0m\u001b[1;33m\u001b[0m\u001b[1;33m\u001b[0m\u001b[0m\n",
      "\u001b[1;32m~\\AppData\\Local\\Programs\\Python\\Python38-32\\lib\\http\\client.py\u001b[0m in \u001b[0;36m_read_status\u001b[1;34m(self)\u001b[0m\n\u001b[0;32m    266\u001b[0m \u001b[1;33m\u001b[0m\u001b[0m\n\u001b[0;32m    267\u001b[0m     \u001b[1;32mdef\u001b[0m \u001b[0m_read_status\u001b[0m\u001b[1;33m(\u001b[0m\u001b[0mself\u001b[0m\u001b[1;33m)\u001b[0m\u001b[1;33m:\u001b[0m\u001b[1;33m\u001b[0m\u001b[1;33m\u001b[0m\u001b[0m\n\u001b[1;32m--> 268\u001b[1;33m         \u001b[0mline\u001b[0m \u001b[1;33m=\u001b[0m \u001b[0mstr\u001b[0m\u001b[1;33m(\u001b[0m\u001b[0mself\u001b[0m\u001b[1;33m.\u001b[0m\u001b[0mfp\u001b[0m\u001b[1;33m.\u001b[0m\u001b[0mreadline\u001b[0m\u001b[1;33m(\u001b[0m\u001b[0m_MAXLINE\u001b[0m \u001b[1;33m+\u001b[0m \u001b[1;36m1\u001b[0m\u001b[1;33m)\u001b[0m\u001b[1;33m,\u001b[0m \u001b[1;34m\"iso-8859-1\"\u001b[0m\u001b[1;33m)\u001b[0m\u001b[1;33m\u001b[0m\u001b[1;33m\u001b[0m\u001b[0m\n\u001b[0m\u001b[0;32m    269\u001b[0m         \u001b[1;32mif\u001b[0m \u001b[0mlen\u001b[0m\u001b[1;33m(\u001b[0m\u001b[0mline\u001b[0m\u001b[1;33m)\u001b[0m \u001b[1;33m>\u001b[0m \u001b[0m_MAXLINE\u001b[0m\u001b[1;33m:\u001b[0m\u001b[1;33m\u001b[0m\u001b[1;33m\u001b[0m\u001b[0m\n\u001b[0;32m    270\u001b[0m             \u001b[1;32mraise\u001b[0m \u001b[0mLineTooLong\u001b[0m\u001b[1;33m(\u001b[0m\u001b[1;34m\"status line\"\u001b[0m\u001b[1;33m)\u001b[0m\u001b[1;33m\u001b[0m\u001b[1;33m\u001b[0m\u001b[0m\n",
      "\u001b[1;32m~\\AppData\\Local\\Programs\\Python\\Python38-32\\lib\\socket.py\u001b[0m in \u001b[0;36mreadinto\u001b[1;34m(self, b)\u001b[0m\n\u001b[0;32m    667\u001b[0m         \u001b[1;32mwhile\u001b[0m \u001b[1;32mTrue\u001b[0m\u001b[1;33m:\u001b[0m\u001b[1;33m\u001b[0m\u001b[1;33m\u001b[0m\u001b[0m\n\u001b[0;32m    668\u001b[0m             \u001b[1;32mtry\u001b[0m\u001b[1;33m:\u001b[0m\u001b[1;33m\u001b[0m\u001b[1;33m\u001b[0m\u001b[0m\n\u001b[1;32m--> 669\u001b[1;33m                 \u001b[1;32mreturn\u001b[0m \u001b[0mself\u001b[0m\u001b[1;33m.\u001b[0m\u001b[0m_sock\u001b[0m\u001b[1;33m.\u001b[0m\u001b[0mrecv_into\u001b[0m\u001b[1;33m(\u001b[0m\u001b[0mb\u001b[0m\u001b[1;33m)\u001b[0m\u001b[1;33m\u001b[0m\u001b[1;33m\u001b[0m\u001b[0m\n\u001b[0m\u001b[0;32m    670\u001b[0m             \u001b[1;32mexcept\u001b[0m \u001b[0mtimeout\u001b[0m\u001b[1;33m:\u001b[0m\u001b[1;33m\u001b[0m\u001b[1;33m\u001b[0m\u001b[0m\n\u001b[0;32m    671\u001b[0m                 \u001b[0mself\u001b[0m\u001b[1;33m.\u001b[0m\u001b[0m_timeout_occurred\u001b[0m \u001b[1;33m=\u001b[0m \u001b[1;32mTrue\u001b[0m\u001b[1;33m\u001b[0m\u001b[1;33m\u001b[0m\u001b[0m\n",
      "\u001b[1;32m~\\AppData\\Local\\Programs\\Python\\Python38-32\\lib\\ssl.py\u001b[0m in \u001b[0;36mrecv_into\u001b[1;34m(self, buffer, nbytes, flags)\u001b[0m\n\u001b[0;32m   1239\u001b[0m                   \u001b[1;34m\"non-zero flags not allowed in calls to recv_into() on %s\"\u001b[0m \u001b[1;33m%\u001b[0m\u001b[1;33m\u001b[0m\u001b[1;33m\u001b[0m\u001b[0m\n\u001b[0;32m   1240\u001b[0m                   self.__class__)\n\u001b[1;32m-> 1241\u001b[1;33m             \u001b[1;32mreturn\u001b[0m \u001b[0mself\u001b[0m\u001b[1;33m.\u001b[0m\u001b[0mread\u001b[0m\u001b[1;33m(\u001b[0m\u001b[0mnbytes\u001b[0m\u001b[1;33m,\u001b[0m \u001b[0mbuffer\u001b[0m\u001b[1;33m)\u001b[0m\u001b[1;33m\u001b[0m\u001b[1;33m\u001b[0m\u001b[0m\n\u001b[0m\u001b[0;32m   1242\u001b[0m         \u001b[1;32melse\u001b[0m\u001b[1;33m:\u001b[0m\u001b[1;33m\u001b[0m\u001b[1;33m\u001b[0m\u001b[0m\n\u001b[0;32m   1243\u001b[0m             \u001b[1;32mreturn\u001b[0m \u001b[0msuper\u001b[0m\u001b[1;33m(\u001b[0m\u001b[1;33m)\u001b[0m\u001b[1;33m.\u001b[0m\u001b[0mrecv_into\u001b[0m\u001b[1;33m(\u001b[0m\u001b[0mbuffer\u001b[0m\u001b[1;33m,\u001b[0m \u001b[0mnbytes\u001b[0m\u001b[1;33m,\u001b[0m \u001b[0mflags\u001b[0m\u001b[1;33m)\u001b[0m\u001b[1;33m\u001b[0m\u001b[1;33m\u001b[0m\u001b[0m\n",
      "\u001b[1;32m~\\AppData\\Local\\Programs\\Python\\Python38-32\\lib\\ssl.py\u001b[0m in \u001b[0;36mread\u001b[1;34m(self, len, buffer)\u001b[0m\n\u001b[0;32m   1097\u001b[0m         \u001b[1;32mtry\u001b[0m\u001b[1;33m:\u001b[0m\u001b[1;33m\u001b[0m\u001b[1;33m\u001b[0m\u001b[0m\n\u001b[0;32m   1098\u001b[0m             \u001b[1;32mif\u001b[0m \u001b[0mbuffer\u001b[0m \u001b[1;32mis\u001b[0m \u001b[1;32mnot\u001b[0m \u001b[1;32mNone\u001b[0m\u001b[1;33m:\u001b[0m\u001b[1;33m\u001b[0m\u001b[1;33m\u001b[0m\u001b[0m\n\u001b[1;32m-> 1099\u001b[1;33m                 \u001b[1;32mreturn\u001b[0m \u001b[0mself\u001b[0m\u001b[1;33m.\u001b[0m\u001b[0m_sslobj\u001b[0m\u001b[1;33m.\u001b[0m\u001b[0mread\u001b[0m\u001b[1;33m(\u001b[0m\u001b[0mlen\u001b[0m\u001b[1;33m,\u001b[0m \u001b[0mbuffer\u001b[0m\u001b[1;33m)\u001b[0m\u001b[1;33m\u001b[0m\u001b[1;33m\u001b[0m\u001b[0m\n\u001b[0m\u001b[0;32m   1100\u001b[0m             \u001b[1;32melse\u001b[0m\u001b[1;33m:\u001b[0m\u001b[1;33m\u001b[0m\u001b[1;33m\u001b[0m\u001b[0m\n\u001b[0;32m   1101\u001b[0m                 \u001b[1;32mreturn\u001b[0m \u001b[0mself\u001b[0m\u001b[1;33m.\u001b[0m\u001b[0m_sslobj\u001b[0m\u001b[1;33m.\u001b[0m\u001b[0mread\u001b[0m\u001b[1;33m(\u001b[0m\u001b[0mlen\u001b[0m\u001b[1;33m)\u001b[0m\u001b[1;33m\u001b[0m\u001b[1;33m\u001b[0m\u001b[0m\n",
      "\u001b[1;31mKeyboardInterrupt\u001b[0m: "
     ]
    }
   ],
   "source": [
    "def add_info(prefix, phils, vars):\n",
    "\n",
    "    for key, value in phils.items():\n",
    "        attrs = table_scrape(prefix,value[0],vars)\n",
    "        for a in attrs:\n",
    "            value.append(a[1])\n",
    "\n",
    "    return phils\n",
    "\n",
    "add_info(prefix, phil_3, vars)"
   ]
  },
  {
   "cell_type": "code",
   "execution_count": 8,
   "metadata": {
    "tags": []
   },
   "outputs": [],
   "source": [
    "# This function creates a list of all the directed edges by \n",
    "# taking the union of connections. (e.g. if it's listed\n",
    "# on Descartes page that he influenced Kant but it \n",
    "# doesn't list on Kant's page that he was influenced\n",
    "# by Descartes it will appear as a connection). It\n",
    "# takes in the network as collected by iterated_crawl\n",
    "# then returns a list of pairs where the first entry\n",
    "# in each pair influenced the second entry in the pair\n",
    "def edge_finder(network):\n",
    "\n",
    "    edges = []\n",
    "\n",
    "    for key, value in network.items():\n",
    "\n",
    "        for infs in value[1]:\n",
    "            if infs in network:\n",
    "                edges.append([infs,key])\n",
    "\n",
    "        for infd in value[2]:\n",
    "            if infd in network:\n",
    "                temp = [key,infd]\n",
    "                if not temp in edges:\n",
    "                    edges.append(temp)\n",
    "\n",
    "    return edges\n",
    "\n",
    "edges = edge_finder(philosophers)"
   ]
  },
  {
   "cell_type": "code",
   "execution_count": 9,
   "metadata": {},
   "outputs": [],
   "source": [
    "# This converts the network and list of edges into a standard\n",
    "# format .gdf file which is typically how network data is stored.\n",
    "# For more relevant information on this file format look here:\n",
    "# https://gephi.org/users/supported-graph-formats/gdf-format/\n",
    "with open(\"philosophers.gdf\", \"w\", encoding = \"utf-8\") as f:\n",
    "    fwrite = csv.writer(f, lineterminator = '\\n') \n",
    "    \n",
    "    node_list = {}\n",
    "\n",
    "    fwrite.writerow([\"nodedef>name VARCHAR\",\"label VARCHAR\"])\n",
    "\n",
    "    ctr = 0\n",
    "    for key, value in philosophers.items():\n",
    "        ctr += 1\n",
    "        node_list[key] = \"n\" + str(ctr)\n",
    "        fwrite.writerow([\"n\"+ str(ctr),key])\n",
    "        #f.write(\"\\n\")\n",
    "\n",
    "    fwrite.writerow([\"edgedef>node1 VARCHAR\",\"node2 VARCHAR\",\"directed BOOLEAN\"])\n",
    "\n",
    "    for edge in edges:\n",
    "        fwrite.writerow([node_list[edge[0]], node_list[edge[1]],\"true\"])"
   ]
  }
 ]
}