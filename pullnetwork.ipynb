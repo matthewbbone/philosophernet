{
 "metadata": {
  "language_info": {
   "codemirror_mode": {
    "name": "ipython",
    "version": 3
   },
   "file_extension": ".py",
   "mimetype": "text/x-python",
   "name": "python",
   "nbconvert_exporter": "python",
   "pygments_lexer": "ipython3",
   "version": "3.8.5-final"
  },
  "orig_nbformat": 2,
  "kernelspec": {
   "name": "Python 3.8.5 32-bit",
   "display_name": "Python 3.8.5 32-bit",
   "metadata": {
    "interpreter": {
     "hash": "27e51d9869a86ed31c6d232a30492375277492976997f955be30b722c624d282"
    }
   }
  }
 },
 "nbformat": 4,
 "nbformat_minor": 2,
 "cells": [
  {
   "cell_type": "code",
   "execution_count": 15,
   "metadata": {},
   "outputs": [],
   "source": [
    "import requests\n",
    "from bs4 import BeautifulSoup\n",
    "import lxml\n",
    "import pickle\n",
    "import csv\n",
    "import re\n",
    "import datetime\n",
    "import dateutil\n",
    "import time\n",
    "\n",
    "%run -i philnetfuncs.py"
   ]
  },
  {
   "source": [
    "This section sets the prefix for the wikipedia url and the starting nodes unique wiki url. "
   ],
   "cell_type": "markdown",
   "metadata": {}
  },
  {
   "cell_type": "code",
   "execution_count": 16,
   "metadata": {
    "tags": []
   },
   "outputs": [],
   "source": [
    "prefix = \"https://en.wikipedia.org\"\n",
    "descartes = \"/wiki/Ren%C3%A9_Descartes\"\n",
    "#print(parse_connections(prefix, descartes))"
   ]
  },
  {
   "source": [
    "This function is where we build the network. The prefix and unqiue wiki url are saying to start the crawl at https://en.wikipedia.org/wiki/Ren%C3%A9_Descartes and the last argument is saying to capture all philosophers that are 20 degrees removed from that node. In this case, there is no node in the network farther than 20 degrees from Renes Descartes."
   ],
   "cell_type": "markdown",
   "metadata": {}
  },
  {
   "cell_type": "code",
   "execution_count": 17,
   "metadata": {
    "tags": []
   },
   "outputs": [
    {
     "output_type": "stream",
     "name": "stdout",
     "text": [
      "1\n",
      "25\n",
      "187\n",
      "506\n",
      "659\n",
      "707\n",
      "734\n",
      "752\n",
      "770\n",
      "775\n",
      "777\n",
      "777\n",
      "777\n",
      "777\n",
      "777\n",
      "777\n",
      "777\n",
      "777\n",
      "777\n",
      "777\n",
      "777\n",
      "7714.306477308273  seconds\n"
     ]
    }
   ],
   "source": [
    "philosophers = iterated_crawl(prefix, descartes, 20)"
   ]
  },
  {
   "source": [
    "This saves the network into a pickle file and reopens it."
   ],
   "cell_type": "markdown",
   "metadata": {}
  },
  {
   "cell_type": "code",
   "execution_count": 18,
   "metadata": {
    "tags": []
   },
   "outputs": [],
   "source": [
    "# saves the network in .pkl file\n",
    "#f = open(r'philosophers5.pkl', 'wb')\n",
    "#pickle.dump(philosophers, f)\n",
    "#f.close()\n",
    "\n",
    "# loads the fifth version of the network from .pkl file \n",
    "# (ensures names in influenced/influences same as in dictionary)\n",
    "f = open(r'philosophers5.pkl', 'rb')\n",
    "phil_5 = pickle.load(f)\n",
    "f.close()\n"
   ]
  },
  {
   "source": [
    "This block enriches the network with the birth and death data. It's written such that if you add more options to vars it can collect more data but currently add_info's functionality isn't able to collect anything else. "
   ],
   "cell_type": "markdown",
   "metadata": {}
  },
  {
   "cell_type": "code",
   "execution_count": 19,
   "metadata": {},
   "outputs": [],
   "source": [
    "vars = [\"Born\",\"Died\"]\n",
    "phil_5 = add_info(prefix, phil_5, vars)"
   ]
  },
  {
   "source": [
    "This function creates a list of edges based on the connections each philosopher has."
   ],
   "cell_type": "markdown",
   "metadata": {}
  },
  {
   "cell_type": "code",
   "execution_count": 20,
   "metadata": {},
   "outputs": [],
   "source": [
    "edges = edge_finder(phil_5)"
   ]
  },
  {
   "source": [
    "This converts the network and list of edges into a standard format .gdf as well as into two csvs, nodes.csv and edges.csv. For more relevant information on the .gdf file format look here: https://gephi.org/users/supported-graph-formats/gdf-format/"
   ],
   "cell_type": "markdown",
   "metadata": {}
  },
  {
   "cell_type": "code",
   "execution_count": 21,
   "metadata": {},
   "outputs": [],
   "source": [
    "\n",
    "with open(\"philosophers.gdf\", \"w\", encoding = \"utf-8\") as f:\n",
    "    with open(\"nodes.csv\", \"w\", encoding = \"utf-8\") as n:\n",
    "    \n",
    "        fwrite = csv.writer(f, lineterminator = '\\n') \n",
    "        nwrite = csv.writer(n, lineterminator = '\\n') \n",
    "    \n",
    "        node_list = {}\n",
    "\n",
    "        fwrite.writerow([\"nodedef>name VARCHAR\",\"label VARCHAR\",\"born VARCHAR\",\"died VARCHAR\"])\n",
    "        nwrite.writerow([\"id\",\"label\",\"born\",\"died\"])\n",
    "\n",
    "        ctr = 0\n",
    "        for key, value in phil_5.items():\n",
    "            ctr += 1\n",
    "            node_list[key] = \"n\" + str(ctr)\n",
    "            fwrite.writerow([\"n\"+ str(ctr),key,value[3],value[4]])\n",
    "            nwrite.writerow([\"n\"+ str(ctr),key,value[3],value[4]])\n",
    "            #f.write(\"\\n\")\n",
    "\n",
    "    with open(\"edges.csv\", \"w\", encoding = \"utf-8\") as e:\n",
    "\n",
    "        ewrite = csv.writer(e, lineterminator = '\\n') \n",
    "\n",
    "        fwrite.writerow([\"edgedef>node1 VARCHAR\",\"node2 VARCHAR\",\"directed BOOLEAN\"])\n",
    "        ewrite.writerow([\"from\",\"to\"])\n",
    "\n",
    "        for edge in edges:\n",
    "            fwrite.writerow([node_list[edge[0]], node_list[edge[1]],\"true\"])\n",
    "            ewrite.writerow([node_list[edge[0]], node_list[edge[1]]])\n"
   ]
  },
  {
   "cell_type": "code",
   "execution_count": null,
   "metadata": {},
   "outputs": [],
   "source": []
  }
 ]
}