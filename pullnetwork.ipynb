{
 "metadata": {
  "language_info": {
   "codemirror_mode": {
    "name": "ipython",
    "version": 3
   },
   "file_extension": ".py",
   "mimetype": "text/x-python",
   "name": "python",
   "nbconvert_exporter": "python",
   "pygments_lexer": "ipython3",
   "version": "3.8.5-final"
  },
  "orig_nbformat": 2,
  "kernelspec": {
   "name": "python_defaultSpec_1600637950312",
   "display_name": "Python 3.8.5 32-bit"
  }
 },
 "nbformat": 4,
 "nbformat_minor": 2,
 "cells": [
  {
   "cell_type": "code",
   "execution_count": 28,
   "metadata": {},
   "outputs": [],
   "source": [
    "import requests\n",
    "from bs4 import BeautifulSoup\n",
    "import lxml\n",
    "import pandas as pd\n",
    "import numpy as np\n",
    "import pickle\n",
    "import csv"
   ]
  },
  {
   "cell_type": "code",
   "execution_count": 29,
   "metadata": {
    "tags": []
   },
   "outputs": [
    {
     "output_type": "stream",
     "name": "stdout",
     "text": "('Ibn al-Haytham', '/wiki/Ibn_al-Haytham', [['Aristotle', '/wiki/Aristotle'], ['Euclid', '/wiki/Euclid'], ['Ptolemy', '/wiki/Ptolemy'], ['Galen', '/wiki/Galen'], ['Banū Mūsā', '/wiki/Ban%C5%AB_M%C5%ABs%C4%81'], ['Thābit ibn Qurra', '/wiki/Th%C4%81bit_ibn_Qurra'], ['Al-Kindi', '/wiki/Al-Kindi'], ['Ibn Sahl', '/wiki/Ibn_Sahl_(mathematician)'], ['Abū Sahl al-Qūhī', '/wiki/Ab%C5%AB_Sahl_al-Q%C5%ABh%C4%AB']], [['Omar Khayyam', '/wiki/Omar_Khayyam'], [\"Taqi ad-Din Muhammad ibn Ma'ruf\", '/wiki/Taqi_ad-Din_Muhammad_ibn_Ma%27ruf'], ['Kamāl al-Dīn al-Fārisī', '/wiki/Kam%C4%81l_al-D%C4%ABn_al-F%C4%81ris%C4%AB'], ['Averroes', '/wiki/Averroes'], ['Al-Khazini', '/wiki/Al-Khazini'], ['John Peckham', '/wiki/John_Peckham'], ['Vitello', '/wiki/Vitello'], ['Roger Bacon', '/wiki/Roger_Bacon'], ['Johannes Kepler', '/wiki/Johannes_Kepler']])\n"
    }
   ],
   "source": [
    "prefix = \"https://en.wikipedia.org\"\n",
    "descartes = \"/wiki/Ren%C3%A9_Descartes\"\n",
    "#print(parse_connections(prefix, descartes))\n",
    "ibn = \"/wiki/Ibn_al-Haytham\"\n",
    "print(parse_connections(prefix, ibn))"
   ]
  },
  {
   "cell_type": "code",
   "execution_count": 30,
   "metadata": {},
   "outputs": [],
   "source": [
    "def parse_connections(prefix, ref):\n",
    "    page = requests.get(prefix + ref)\n",
    "    soup = BeautifulSoup(page.content, \"lxml\")\n",
    "\n",
    "    influences = soup.find(\"div\", string = \"Influences\")\n",
    "    influenced = soup.find(\"div\", string = \"Influenced\")\n",
    "    influenced_by = soup.find(\"div\", string = \"Influenced\\xa0by\")\n",
    "\n",
    "    if influences is None and influenced_by is None: return None, None, None, None\n",
    "    if influenced is None: return None, None, None, None\n",
    "\n",
    "    if influenced_by is None: return influences_parse(soup, ref)\n",
    "    else: return influenced_by_parse(soup, ref)\n",
    "\n",
    "\n",
    "def influences_parse(soup, ref):\n",
    "\n",
    "    name = soup.find(\"h1\", id = \"firstHeading\").text\n",
    "    divs = soup.find_all(\"div\", class_ = \"center\")\n",
    "\n",
    "    infs = divs[0]\n",
    "    infd = divs[1]\n",
    "\n",
    "    infs = bs4_list_convert(infs)\n",
    "    infd = bs4_list_convert(infd)\n",
    "\n",
    "    return name, ref, infs, infd\n",
    "\n",
    "def influenced_by_parse(soup, ref):\n",
    "\n",
    "    name = soup.find(\"h1\", id = \"firstHeading\").text\n",
    "    lis = soup.find_all(\"ul\", class_ = \"NavContent\")\n",
    "\n",
    "    infs = lis[0]\n",
    "    infd = lis[1]\n",
    "\n",
    "    infs = bs4_list_convert(infs)\n",
    "    infd = bs4_list_convert(infd)\n",
    "\n",
    "    return name, ref, infs, infd\n",
    "\n",
    "def bs4_list_convert(div):\n",
    "    l = []\n",
    "\n",
    "    for person in div.find_all(\"a\", href = True):\n",
    "        name = person.get_text()\n",
    "        ref = person[\"href\"]\n",
    "\n",
    "        if not \"[\" in name and not \"wikipedia\" in ref:\n",
    "            l.append([name,ref]) \n",
    "\n",
    "    return l"
   ]
  },
  {
   "cell_type": "code",
   "execution_count": 31,
   "metadata": {
    "tags": []
   },
   "outputs": [],
   "source": [
    "def phil_crawl(prefix, ref):\n",
    "\n",
    "    name, ref, infs, infd = parse_connections(prefix, ref)\n",
    "\n",
    "    philosophers = {name:[ref, [row[0] for row in infs], [row[0] for row in infd]]}\n",
    "\n",
    "    for person in infs:\n",
    "        name, ref, ifs, ifd = parse_connections(prefix, person[1])\n",
    "        if not name is None: philosophers[name] = [ref, [row[0] for row in ifs], [row[0] for row in ifd]]\n",
    "\n",
    "    for person in infd: \n",
    "        name, ref, ifs, ifd = parse_connections(prefix, person[1])\n",
    "        if not name is None: philosophers[name] = [ref, [row[0] for row in ifs], [row[0] for row in ifd]]\n",
    "\n",
    "    return philosophers\n"
   ]
  },
  {
   "cell_type": "code",
   "execution_count": 34,
   "metadata": {
    "tags": []
   },
   "outputs": [
    {
     "output_type": "stream",
     "name": "stdout",
     "text": "22\n163\n479\n642\n688\n708\n729\n742\n760\n765\n765\n"
    }
   ],
   "source": [
    "def iterated_crawl(prefix, ref, iterations):\n",
    "    phils = phil_crawl(prefix, ref)\n",
    "    temp = phils\n",
    "    searched = []\n",
    "    print(len(phils))\n",
    "\n",
    "    for i in range(iterations):\n",
    "        for key, value in phils.items():\n",
    "            if not key in searched: \n",
    "                temp = {**temp, **phil_crawl(prefix, value[0])}\n",
    "                searched.append(key)\n",
    "        phils = temp\n",
    "        print(len(phils))\n",
    "\n",
    "    return phils\n",
    "    \n",
    "philosophers = iterated_crawl(prefix, descartes, 10)"
   ]
  },
  {
   "cell_type": "code",
   "execution_count": 37,
   "metadata": {
    "tags": []
   },
   "outputs": [],
   "source": [
    "#f = open(r'philosophers2.pkl', 'wb')\n",
    "#pickle.dump(philosophers, f)\n",
    "#f.close()\n",
    "\n",
    "f = open(r'philosophers.pkl', 'rb')\n",
    "phil_1 = pickle.load(f)\n",
    "f.close()\n",
    "\n",
    "f = open(r'philosophers2.pkl', 'rb')\n",
    "phil_2 = pickle.load(f)\n",
    "f.close()"
   ]
  },
  {
   "cell_type": "code",
   "execution_count": 38,
   "metadata": {
    "tags": []
   },
   "outputs": [
    {
     "output_type": "stream",
     "name": "stdout",
     "text": "Ibn al-Haytham\nOmar Khayyam\nAl-Khazini\nMulla Sadra\nAl-Khalil ibn Ahmad al-Farahidi\nMiskawayh\nNasir al-Din al-Tusi\nIbn Tufail\nAbu Amr of Basra\nSibawayh\nSam Harris\nMichael Sandel\nRumi\nMuhammad Asad\nIsrar Ahmed\nIbn Tumart\nIbn al-Nafis\nAbu Madyan\nAbu Said al-Baji\nAl-Suyuti\nIsmail Haqqi Bursevi\nSaid Nursî\nNiftawayh\nAbu Turab al-Zahiri\nBayazid Bastami\nMuhammad Abduh\nRashid Rida\nIbn Hazm\nAbu Hayyan al-Gharnati\nAbdul Qadir Gilani\nAbd as-Salam ibn Mashish al-Alami\nAbul Hasan ash-Shadhili\nIbn Taymiyyah\nAl-Kamal ibn al-Humam\nAl-Sha'rani\nOsman Fazli\nDawud al-Zahiri\nMuhammad bin Dawud al-Zahiri\nAbu Abd al-Rahman Ibn Aqil al-Zahiri\nAl-Hallaj\nJamāl al-Dīn al-Afghānī\nMuhammad Nasiruddin al-Albani\nIbn Khaldun\nIbn Mada'\nAl-Dhahabi\nMuhammad al-Jazuli\nAl-Hasan ibn 'Ali al-Barbahari\nIbn Battah\nIbn Qudamah\nMuhammad ibn Abd al-Wahhab\nAbu Hanifa\nZakariyya al-Ansari\nIbn Hajar al-Haytami\nIbrahim al-Bajuri\nAl-Shafiʽi\nAhmad ibn Hanbal\nIbn Kullab\nIshaq ibn Rahwayh\nYaḥya ibn Maʻin\nAl-Tabari\nRuwaym\nImadaddin Nasimi\nZaynab bint ʿUmar b. al-Kindī\nIbn Rajab\nMalik ibn Anas\nShah Waliullah Dehlawi\nSayyida Nafisa\nʽAbd al-Razzaq al-Sanʽani\nHarith al-Muhasibi\nJunayd of Baghdad\nMuhammad al-Bukhari\nAl-Ash'ari\nIbn Hibban\nIbrahim ibn Ya'qub al-Juzajani\nHaji Bektash Veli\nHisham ibn Urwah\nIbn Shihab al-Zuhri\nShah Abdul Aziz\nRahmatullah Kairanawi\nRashid Ahmad Gangohi\nMahmud Hasan Deobandi\nKhalil Ahmad Saharanpuri\nAshraf Ali Thanwi\nHussain Ahmed Madani\nMuhammad Ilyas Kandhlawi\nMuhammad Zakariyya al-Kandhlawi\nSufyan al-Thawri\nAbu Bakr Shibli\nMumshad Al-Dinawari\nIbn Abi Asim\nAl-Hakim al-Nishapuri\nAbu Dawood\nAhmad Yasawi\nIbn Ishaq\nMajid Ali Jaunpuri\nShamsul Haque Faridpuri\nAbdul Qadir Raipuri\nInamul Hasan Kandhlawi\nMichael J. Sandel\n"
    }
   ],
   "source": [
    "for p in phil_2.keys():\n",
    "    if not p in phil_1.keys():\n",
    "        print(p)\n",
    "\n",
    "for p in phil_1.keys():\n",
    "    if not p in phil_2.keys():\n",
    "        print(p)"
   ]
  },
  {
   "cell_type": "code",
   "execution_count": 85,
   "metadata": {},
   "outputs": [
    {
     "output_type": "execute_result",
     "data": {
      "text/plain": "668"
     },
     "metadata": {},
     "execution_count": 85
    }
   ],
   "source": [
    "len(philosophers)"
   ]
  },
  {
   "cell_type": "code",
   "execution_count": 30,
   "metadata": {
    "tags": []
   },
   "outputs": [],
   "source": [
    "def edge_finder(network):\n",
    "\n",
    "    edges = []\n",
    "\n",
    "    for key, value in network.items():\n",
    "\n",
    "        for infs in value[1]:\n",
    "            if infs in network:\n",
    "                edges.append([infs,key])\n",
    "\n",
    "        for infd in value[2]:\n",
    "            if infd in network:\n",
    "                temp = [key,infd]\n",
    "                if not temp in edges:\n",
    "                    edges.append(temp)\n",
    "\n",
    "    return edges\n",
    "\n",
    "edges = edge_finder(philosophers)"
   ]
  },
  {
   "cell_type": "code",
   "execution_count": 31,
   "metadata": {},
   "outputs": [],
   "source": [
    "with open(\"philosophers.gdf\", \"w\", encoding = \"utf-8\") as f:\n",
    "    fwrite = csv.writer(f, lineterminator = '\\n') \n",
    "    \n",
    "    node_list = {}\n",
    "\n",
    "    fwrite.writerow([\"nodedef>name VARCHAR\",\"label VARCHAR\"])\n",
    "\n",
    "    ctr = 0\n",
    "    for key, value in philosophers.items():\n",
    "        ctr += 1\n",
    "        node_list[key] = \"n\" + str(ctr)\n",
    "        fwrite.writerow([\"n\"+ str(ctr),key])\n",
    "        #f.write(\"\\n\")\n",
    "\n",
    "    fwrite.writerow([\"edgedef>node1 VARCHAR\",\"node2 VARCHAR\",\"directed BOOLEAN\"])\n",
    "\n",
    "    for edge in edges:\n",
    "        fwrite.writerow([node_list[edge[0]], node_list[edge[1]],\"true\"])"
   ]
  },
  {
   "cell_type": "code",
   "execution_count": 32,
   "metadata": {},
   "outputs": [
    {
     "output_type": "execute_result",
     "data": {
      "text/plain": "dict_keys(['René Descartes', 'Plato', 'Aristotle', 'Averroes', 'Anselm of Canterbury', 'Augustine of Hippo', 'Thomas Aquinas', 'William of Ockham', 'Francisco Suárez', 'Sextus Empiricus', 'Michel de Montaigne', 'Duns Scotus', 'Teresa of Ávila', 'Baruch Spinoza', 'Gottfried Wilhelm Leibniz', 'John Locke', 'Nicolas Malebranche', 'Antoine Arnauld', 'Blaise Pascal', 'Immanuel Kant', 'Edmund Husserl'])"
     },
     "metadata": {},
     "execution_count": 32
    }
   ],
   "source": [
    "philosophers.keys()"
   ]
  },
  {
   "cell_type": "code",
   "execution_count": null,
   "metadata": {},
   "outputs": [],
   "source": []
  }
 ]
}